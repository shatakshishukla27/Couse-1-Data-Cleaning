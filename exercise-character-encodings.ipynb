{
 "cells": [
  {
   "cell_type": "markdown",
   "id": "hourly-quarterly",
   "metadata": {
    "papermill": {
     "duration": 0.015355,
     "end_time": "2021-05-08T15:28:37.444028",
     "exception": false,
     "start_time": "2021-05-08T15:28:37.428673",
     "status": "completed"
    },
    "tags": []
   },
   "source": [
    "**This notebook is an exercise in the [Data Cleaning](https://www.kaggle.com/learn/data-cleaning) course.  You can reference the tutorial at [this link](https://www.kaggle.com/alexisbcook/character-encodings).**\n",
    "\n",
    "---\n"
   ]
  },
  {
   "cell_type": "markdown",
   "id": "stopped-working",
   "metadata": {
    "papermill": {
     "duration": 0.012462,
     "end_time": "2021-05-08T15:28:37.469361",
     "exception": false,
     "start_time": "2021-05-08T15:28:37.456899",
     "status": "completed"
    },
    "tags": []
   },
   "source": [
    "In this exercise, you'll apply what you learned in the **Character encodings** tutorial.\n",
    "\n",
    "# Setup\n",
    "\n",
    "The questions below will give you feedback on your work. Run the following cell to set up the feedback system."
   ]
  },
  {
   "cell_type": "code",
   "execution_count": 1,
   "id": "latest-hollywood",
   "metadata": {
    "execution": {
     "iopub.execute_input": "2021-05-08T15:28:37.499394Z",
     "iopub.status.busy": "2021-05-08T15:28:37.498071Z",
     "iopub.status.idle": "2021-05-08T15:28:37.592768Z",
     "shell.execute_reply": "2021-05-08T15:28:37.593303Z"
    },
    "papermill": {
     "duration": 0.111448,
     "end_time": "2021-05-08T15:28:37.593694",
     "exception": false,
     "start_time": "2021-05-08T15:28:37.482246",
     "status": "completed"
    },
    "tags": []
   },
   "outputs": [
    {
     "name": "stdout",
     "output_type": "stream",
     "text": [
      "Setup Complete\n"
     ]
    }
   ],
   "source": [
    "from learntools.core import binder\n",
    "binder.bind(globals())\n",
    "from learntools.data_cleaning.ex4 import *\n",
    "print(\"Setup Complete\")"
   ]
  },
  {
   "cell_type": "markdown",
   "id": "double-trinity",
   "metadata": {
    "papermill": {
     "duration": 0.013384,
     "end_time": "2021-05-08T15:28:37.621044",
     "exception": false,
     "start_time": "2021-05-08T15:28:37.607660",
     "status": "completed"
    },
    "tags": []
   },
   "source": [
    "# Get our environment set up\n",
    "\n",
    "The first thing we'll need to do is load in the libraries we'll be using."
   ]
  },
  {
   "cell_type": "code",
   "execution_count": 2,
   "id": "protective-small",
   "metadata": {
    "execution": {
     "iopub.execute_input": "2021-05-08T15:28:37.650780Z",
     "iopub.status.busy": "2021-05-08T15:28:37.650109Z",
     "iopub.status.idle": "2021-05-08T15:28:37.654022Z",
     "shell.execute_reply": "2021-05-08T15:28:37.654540Z"
    },
    "papermill": {
     "duration": 0.020431,
     "end_time": "2021-05-08T15:28:37.654720",
     "exception": false,
     "start_time": "2021-05-08T15:28:37.634289",
     "status": "completed"
    },
    "tags": []
   },
   "outputs": [],
   "source": [
    "# modules we'll use\n",
    "import pandas as pd\n",
    "import numpy as np\n",
    "\n",
    "# helpful character encoding module\n",
    "import chardet\n",
    "\n",
    "# set seed for reproducibility\n",
    "np.random.seed(0)"
   ]
  },
  {
   "cell_type": "markdown",
   "id": "demonstrated-northern",
   "metadata": {
    "papermill": {
     "duration": 0.013062,
     "end_time": "2021-05-08T15:28:37.681676",
     "exception": false,
     "start_time": "2021-05-08T15:28:37.668614",
     "status": "completed"
    },
    "tags": []
   },
   "source": [
    "# 1) What are encodings?\n",
    "\n",
    "You're working with a dataset composed of bytes.  Run the code cell below to print a sample entry."
   ]
  },
  {
   "cell_type": "code",
   "execution_count": 3,
   "id": "decent-tumor",
   "metadata": {
    "execution": {
     "iopub.execute_input": "2021-05-08T15:28:37.712066Z",
     "iopub.status.busy": "2021-05-08T15:28:37.711379Z",
     "iopub.status.idle": "2021-05-08T15:28:37.717858Z",
     "shell.execute_reply": "2021-05-08T15:28:37.717298Z"
    },
    "papermill": {
     "duration": 0.022866,
     "end_time": "2021-05-08T15:28:37.718012",
     "exception": false,
     "start_time": "2021-05-08T15:28:37.695146",
     "status": "completed"
    },
    "tags": []
   },
   "outputs": [
    {
     "name": "stdout",
     "output_type": "stream",
     "text": [
      "b'\\xa7A\\xa6n'\n",
      "data type: <class 'bytes'>\n"
     ]
    }
   ],
   "source": [
    "sample_entry = b'\\xa7A\\xa6n'\n",
    "print(sample_entry)\n",
    "print('data type:', type(sample_entry))"
   ]
  },
  {
   "cell_type": "markdown",
   "id": "sacred-august",
   "metadata": {
    "papermill": {
     "duration": 0.013559,
     "end_time": "2021-05-08T15:28:37.746774",
     "exception": false,
     "start_time": "2021-05-08T15:28:37.733215",
     "status": "completed"
    },
    "tags": []
   },
   "source": [
    "You notice that it doesn't use the standard UTF-8 encoding. \n",
    "\n",
    "Use the next code cell to create a variable `new_entry` that changes the encoding from `\"big5-tw\"` to `\"utf-8\"`.  `new_entry` should have the bytes datatype."
   ]
  },
  {
   "cell_type": "code",
   "execution_count": 4,
   "id": "adverse-floating",
   "metadata": {
    "execution": {
     "iopub.execute_input": "2021-05-08T15:28:37.782288Z",
     "iopub.status.busy": "2021-05-08T15:28:37.781254Z",
     "iopub.status.idle": "2021-05-08T15:28:37.787154Z",
     "shell.execute_reply": "2021-05-08T15:28:37.787806Z"
    },
    "papermill": {
     "duration": 0.027415,
     "end_time": "2021-05-08T15:28:37.787995",
     "exception": false,
     "start_time": "2021-05-08T15:28:37.760580",
     "status": "completed"
    },
    "tags": []
   },
   "outputs": [
    {
     "data": {
      "application/javascript": [
       "parent.postMessage({\"jupyterEvent\": \"custom.exercise_interaction\", \"data\": {\"outcomeType\": 1, \"valueTowardsCompletion\": 0.3333333333333333, \"interactionType\": 1, \"questionType\": 1, \"questionId\": \"1_EncodingsIntro\", \"learnToolsVersion\": \"0.3.4\", \"failureMessage\": \"\", \"exceptionClass\": \"\", \"trace\": \"\"}}, \"*\")"
      ],
      "text/plain": [
       "<IPython.core.display.Javascript object>"
      ]
     },
     "metadata": {},
     "output_type": "display_data"
    },
    {
     "data": {
      "text/markdown": [
       "<span style=\"color:#33cc33\">Correct</span>"
      ],
      "text/plain": [
       "Correct"
      ]
     },
     "metadata": {},
     "output_type": "display_data"
    }
   ],
   "source": [
    "new_entry = sample_entry.decode(\"big5-tw\").encode()\n",
    "# Check your answer\n",
    "q1.check()"
   ]
  },
  {
   "cell_type": "code",
   "execution_count": 5,
   "id": "processed-rachel",
   "metadata": {
    "execution": {
     "iopub.execute_input": "2021-05-08T15:28:37.822446Z",
     "iopub.status.busy": "2021-05-08T15:28:37.821497Z",
     "iopub.status.idle": "2021-05-08T15:28:37.824791Z",
     "shell.execute_reply": "2021-05-08T15:28:37.825309Z"
    },
    "papermill": {
     "duration": 0.021858,
     "end_time": "2021-05-08T15:28:37.825490",
     "exception": false,
     "start_time": "2021-05-08T15:28:37.803632",
     "status": "completed"
    },
    "tags": []
   },
   "outputs": [],
   "source": [
    "# Lines below will give you a hint or solution code\n",
    "#q1.hint()\n",
    "#q1.solution()"
   ]
  },
  {
   "cell_type": "markdown",
   "id": "colored-oxide",
   "metadata": {
    "papermill": {
     "duration": 0.014395,
     "end_time": "2021-05-08T15:28:37.854612",
     "exception": false,
     "start_time": "2021-05-08T15:28:37.840217",
     "status": "completed"
    },
    "tags": []
   },
   "source": [
    "# 2) Reading in files with encoding problems\n",
    "\n",
    "Use the code cell below to read in this file at path `\"../input/fatal-police-shootings-in-the-us/PoliceKillingsUS.csv\"`.  \n",
    "\n",
    "Figure out what the correct encoding should be and read in the file to a DataFrame `police_killings`."
   ]
  },
  {
   "cell_type": "code",
   "execution_count": 6,
   "id": "unauthorized-march",
   "metadata": {
    "execution": {
     "iopub.execute_input": "2021-05-08T15:28:37.888141Z",
     "iopub.status.busy": "2021-05-08T15:28:37.887162Z",
     "iopub.status.idle": "2021-05-08T15:28:37.916704Z",
     "shell.execute_reply": "2021-05-08T15:28:37.915998Z"
    },
    "papermill": {
     "duration": 0.047465,
     "end_time": "2021-05-08T15:28:37.916860",
     "exception": false,
     "start_time": "2021-05-08T15:28:37.869395",
     "status": "completed"
    },
    "tags": []
   },
   "outputs": [
    {
     "data": {
      "application/javascript": [
       "parent.postMessage({\"jupyterEvent\": \"custom.exercise_interaction\", \"data\": {\"outcomeType\": 1, \"valueTowardsCompletion\": 0.3333333333333333, \"interactionType\": 1, \"questionType\": 1, \"questionId\": \"2_ReadIn\", \"learnToolsVersion\": \"0.3.4\", \"failureMessage\": \"\", \"exceptionClass\": \"\", \"trace\": \"\"}}, \"*\")"
      ],
      "text/plain": [
       "<IPython.core.display.Javascript object>"
      ]
     },
     "metadata": {},
     "output_type": "display_data"
    },
    {
     "data": {
      "text/markdown": [
       "<span style=\"color:#33cc33\">Correct</span>"
      ],
      "text/plain": [
       "Correct"
      ]
     },
     "metadata": {},
     "output_type": "display_data"
    }
   ],
   "source": [
    "# TODO: Load in the DataFrame correctly.\n",
    "police_killings = pd.read_csv(\"../input/fatal-police-shootings-in-the-us/PoliceKillingsUS.csv\", encoding='Windows-1252')\n",
    "# Check your answer\n",
    "q2.check()"
   ]
  },
  {
   "cell_type": "markdown",
   "id": "light-remains",
   "metadata": {
    "papermill": {
     "duration": 0.015947,
     "end_time": "2021-05-08T15:28:37.949976",
     "exception": false,
     "start_time": "2021-05-08T15:28:37.934029",
     "status": "completed"
    },
    "tags": []
   },
   "source": [
    "Feel free to use any additional code cells for supplemental work.  To get credit for finishing this question, you'll need to run `q2.check()` and get a result of **Correct**."
   ]
  },
  {
   "cell_type": "code",
   "execution_count": 7,
   "id": "biological-outside",
   "metadata": {
    "execution": {
     "iopub.execute_input": "2021-05-08T15:28:37.985746Z",
     "iopub.status.busy": "2021-05-08T15:28:37.985044Z",
     "iopub.status.idle": "2021-05-08T15:28:37.988512Z",
     "shell.execute_reply": "2021-05-08T15:28:37.989010Z"
    },
    "papermill": {
     "duration": 0.022983,
     "end_time": "2021-05-08T15:28:37.989220",
     "exception": false,
     "start_time": "2021-05-08T15:28:37.966237",
     "status": "completed"
    },
    "tags": []
   },
   "outputs": [],
   "source": [
    "# (Optional) Use this code cell for any additional work."
   ]
  },
  {
   "cell_type": "code",
   "execution_count": 8,
   "id": "convenient-outdoors",
   "metadata": {
    "execution": {
     "iopub.execute_input": "2021-05-08T15:28:38.025557Z",
     "iopub.status.busy": "2021-05-08T15:28:38.024839Z",
     "iopub.status.idle": "2021-05-08T15:28:38.029066Z",
     "shell.execute_reply": "2021-05-08T15:28:38.028466Z"
    },
    "papermill": {
     "duration": 0.023521,
     "end_time": "2021-05-08T15:28:38.029218",
     "exception": false,
     "start_time": "2021-05-08T15:28:38.005697",
     "status": "completed"
    },
    "tags": []
   },
   "outputs": [],
   "source": [
    "# Lines below will give you a hint or solution code\n",
    "#q2.hint()\n",
    "# q2.solution()"
   ]
  },
  {
   "cell_type": "markdown",
   "id": "metropolitan-sheffield",
   "metadata": {
    "papermill": {
     "duration": 0.016608,
     "end_time": "2021-05-08T15:28:38.062464",
     "exception": false,
     "start_time": "2021-05-08T15:28:38.045856",
     "status": "completed"
    },
    "tags": []
   },
   "source": [
    "# 3) Saving your files with UTF-8 encoding\n",
    "\n",
    "Save a version of the police killings dataset to CSV with UTF-8 encoding.  Your answer will be marked correct after saving this file.  \n",
    "\n",
    "Note: When using the `to_csv()` method, supply only the name of the file (e.g., `\"my_file.csv\"`).  This saves the file at the filepath `\"/kaggle/working/my_file.csv\"`."
   ]
  },
  {
   "cell_type": "code",
   "execution_count": 9,
   "id": "amended-conditions",
   "metadata": {
    "execution": {
     "iopub.execute_input": "2021-05-08T15:28:38.101206Z",
     "iopub.status.busy": "2021-05-08T15:28:38.100191Z",
     "iopub.status.idle": "2021-05-08T15:28:38.145158Z",
     "shell.execute_reply": "2021-05-08T15:28:38.145706Z"
    },
    "papermill": {
     "duration": 0.066866,
     "end_time": "2021-05-08T15:28:38.145893",
     "exception": false,
     "start_time": "2021-05-08T15:28:38.079027",
     "status": "completed"
    },
    "tags": []
   },
   "outputs": [
    {
     "data": {
      "application/javascript": [
       "parent.postMessage({\"jupyterEvent\": \"custom.exercise_interaction\", \"data\": {\"outcomeType\": 1, \"valueTowardsCompletion\": 0.3333333333333333, \"interactionType\": 1, \"questionType\": 2, \"questionId\": \"3_SaveCSV\", \"learnToolsVersion\": \"0.3.4\", \"failureMessage\": \"\", \"exceptionClass\": \"\", \"trace\": \"\"}}, \"*\")"
      ],
      "text/plain": [
       "<IPython.core.display.Javascript object>"
      ]
     },
     "metadata": {},
     "output_type": "display_data"
    },
    {
     "data": {
      "text/markdown": [
       "<span style=\"color:#33cc33\">Correct</span>"
      ],
      "text/plain": [
       "Correct"
      ]
     },
     "metadata": {},
     "output_type": "display_data"
    }
   ],
   "source": [
    "# TODO: Save the police killings dataset to CSV\n",
    "police_killings.to_csv(\"poilice_killings.csv\")\n",
    "\n",
    "# Check your answer\n",
    "q3.check()"
   ]
  },
  {
   "cell_type": "code",
   "execution_count": 10,
   "id": "current-conflict",
   "metadata": {
    "execution": {
     "iopub.execute_input": "2021-05-08T15:28:38.184875Z",
     "iopub.status.busy": "2021-05-08T15:28:38.183927Z",
     "iopub.status.idle": "2021-05-08T15:28:38.187114Z",
     "shell.execute_reply": "2021-05-08T15:28:38.187670Z"
    },
    "papermill": {
     "duration": 0.02451,
     "end_time": "2021-05-08T15:28:38.187850",
     "exception": false,
     "start_time": "2021-05-08T15:28:38.163340",
     "status": "completed"
    },
    "tags": []
   },
   "outputs": [],
   "source": [
    "# Lines below will give you a hint or solution code\n",
    "#q3.hint()\n",
    "# q3.solution()"
   ]
  },
  {
   "cell_type": "markdown",
   "id": "renewable-lambda",
   "metadata": {
    "papermill": {
     "duration": 0.017449,
     "end_time": "2021-05-08T15:28:38.222881",
     "exception": false,
     "start_time": "2021-05-08T15:28:38.205432",
     "status": "completed"
    },
    "tags": []
   },
   "source": [
    "# (Optional) More practice\n",
    "\n",
    "Check out [this dataset of files in different character encodings](https://www.kaggle.com/rtatman/character-encoding-examples). Can you read in all the files with their original encodings and them save them out as UTF-8 files?\n",
    "\n",
    "If you have a file that's in UTF-8 but has just a couple of weird-looking characters in it, you can try out the [ftfy module](https://ftfy.readthedocs.io/en/latest/#) and see if it helps. \n",
    "\n",
    "# Keep going\n",
    "\n",
    "In the final lesson, learn how to [**clean up inconsistent text entries**](https://www.kaggle.com/alexisbcook/inconsistent-data-entry) in your dataset."
   ]
  },
  {
   "cell_type": "markdown",
   "id": "strong-audience",
   "metadata": {
    "papermill": {
     "duration": 0.017708,
     "end_time": "2021-05-08T15:28:38.258432",
     "exception": false,
     "start_time": "2021-05-08T15:28:38.240724",
     "status": "completed"
    },
    "tags": []
   },
   "source": [
    "---\n",
    "\n",
    "\n",
    "\n",
    "\n",
    "*Have questions or comments? Visit the [Learn Discussion forum](https://www.kaggle.com/learn-forum/172650) to chat with other Learners.*"
   ]
  }
 ],
 "metadata": {
  "kernelspec": {
   "display_name": "Python 3",
   "language": "python",
   "name": "python3"
  },
  "language_info": {
   "codemirror_mode": {
    "name": "ipython",
    "version": 3
   },
   "file_extension": ".py",
   "mimetype": "text/x-python",
   "name": "python",
   "nbconvert_exporter": "python",
   "pygments_lexer": "ipython3",
   "version": "3.7.9"
  },
  "papermill": {
   "default_parameters": {},
   "duration": 8.091399,
   "end_time": "2021-05-08T15:28:38.986540",
   "environment_variables": {},
   "exception": null,
   "input_path": "__notebook__.ipynb",
   "output_path": "__notebook__.ipynb",
   "parameters": {},
   "start_time": "2021-05-08T15:28:30.895141",
   "version": "2.3.2"
  }
 },
 "nbformat": 4,
 "nbformat_minor": 5
}
