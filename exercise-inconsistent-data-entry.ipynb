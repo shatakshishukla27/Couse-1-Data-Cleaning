{
 "cells": [
  {
   "cell_type": "markdown",
   "id": "indirect-pencil",
   "metadata": {
    "papermill": {
     "duration": 0.012194,
     "end_time": "2021-05-08T15:39:19.160068",
     "exception": false,
     "start_time": "2021-05-08T15:39:19.147874",
     "status": "completed"
    },
    "tags": []
   },
   "source": [
    "**This notebook is an exercise in the [Data Cleaning](https://www.kaggle.com/learn/data-cleaning) course.  You can reference the tutorial at [this link](https://www.kaggle.com/alexisbcook/inconsistent-data-entry).**\n",
    "\n",
    "---\n"
   ]
  },
  {
   "cell_type": "markdown",
   "id": "heard-power",
   "metadata": {
    "papermill": {
     "duration": 0.010554,
     "end_time": "2021-05-08T15:39:19.181456",
     "exception": false,
     "start_time": "2021-05-08T15:39:19.170902",
     "status": "completed"
    },
    "tags": []
   },
   "source": [
    "In this exercise, you'll apply what you learned in the **Inconsistent data entry** tutorial.\n",
    "\n",
    "# Setup\n",
    "\n",
    "The questions below will give you feedback on your work. Run the following cell to set up the feedback system."
   ]
  },
  {
   "cell_type": "code",
   "execution_count": 1,
   "id": "finite-schedule",
   "metadata": {
    "execution": {
     "iopub.execute_input": "2021-05-08T15:39:19.208351Z",
     "iopub.status.busy": "2021-05-08T15:39:19.207792Z",
     "iopub.status.idle": "2021-05-08T15:39:19.315202Z",
     "shell.execute_reply": "2021-05-08T15:39:19.315628Z"
    },
    "papermill": {
     "duration": 0.123667,
     "end_time": "2021-05-08T15:39:19.315907",
     "exception": false,
     "start_time": "2021-05-08T15:39:19.192240",
     "status": "completed"
    },
    "tags": []
   },
   "outputs": [
    {
     "name": "stdout",
     "output_type": "stream",
     "text": [
      "Setup Complete\n"
     ]
    }
   ],
   "source": [
    "from learntools.core import binder\n",
    "binder.bind(globals())\n",
    "from learntools.data_cleaning.ex5 import *\n",
    "print(\"Setup Complete\")"
   ]
  },
  {
   "cell_type": "markdown",
   "id": "reported-greensboro",
   "metadata": {
    "papermill": {
     "duration": 0.010845,
     "end_time": "2021-05-08T15:39:19.338560",
     "exception": false,
     "start_time": "2021-05-08T15:39:19.327715",
     "status": "completed"
    },
    "tags": []
   },
   "source": [
    "# Get our environment set up\n",
    "\n",
    "The first thing we'll need to do is load in the libraries and dataset we'll be using.  We use the same dataset from the tutorial."
   ]
  },
  {
   "cell_type": "code",
   "execution_count": 2,
   "id": "becoming-attempt",
   "metadata": {
    "execution": {
     "iopub.execute_input": "2021-05-08T15:39:19.369611Z",
     "iopub.status.busy": "2021-05-08T15:39:19.368379Z",
     "iopub.status.idle": "2021-05-08T15:39:19.382143Z",
     "shell.execute_reply": "2021-05-08T15:39:19.381418Z"
    },
    "papermill": {
     "duration": 0.032039,
     "end_time": "2021-05-08T15:39:19.382305",
     "exception": false,
     "start_time": "2021-05-08T15:39:19.350266",
     "status": "completed"
    },
    "tags": []
   },
   "outputs": [],
   "source": [
    "# modules we'll use\n",
    "import pandas as pd\n",
    "import numpy as np\n",
    "\n",
    "# helpful modules\n",
    "import fuzzywuzzy\n",
    "from fuzzywuzzy import process\n",
    "import chardet\n",
    "\n",
    "# read in all our data\n",
    "professors = pd.read_csv(\"../input/pakistan-intellectual-capital/pakistan_intellectual_capital.csv\")\n",
    "\n",
    "# set seed for reproducibility\n",
    "np.random.seed(0)"
   ]
  },
  {
   "cell_type": "markdown",
   "id": "answering-vinyl",
   "metadata": {
    "papermill": {
     "duration": 0.011075,
     "end_time": "2021-05-08T15:39:19.405227",
     "exception": false,
     "start_time": "2021-05-08T15:39:19.394152",
     "status": "completed"
    },
    "tags": []
   },
   "source": [
    "Next, we'll redo all of the work that we did in the tutorial."
   ]
  },
  {
   "cell_type": "code",
   "execution_count": 3,
   "id": "soviet-focus",
   "metadata": {
    "execution": {
     "iopub.execute_input": "2021-05-08T15:39:19.442223Z",
     "iopub.status.busy": "2021-05-08T15:39:19.440108Z",
     "iopub.status.idle": "2021-05-08T15:39:19.446837Z",
     "shell.execute_reply": "2021-05-08T15:39:19.446242Z"
    },
    "papermill": {
     "duration": 0.029005,
     "end_time": "2021-05-08T15:39:19.446985",
     "exception": false,
     "start_time": "2021-05-08T15:39:19.417980",
     "status": "completed"
    },
    "tags": []
   },
   "outputs": [
    {
     "name": "stdout",
     "output_type": "stream",
     "text": [
      "All done!\n"
     ]
    }
   ],
   "source": [
    "# convert to lower case\n",
    "professors['Country'] = professors['Country'].str.lower()\n",
    "# remove trailing white spaces\n",
    "professors['Country'] = professors['Country'].str.strip()\n",
    "\n",
    "# get the top 10 closest matches to \"south korea\"\n",
    "countries = professors['Country'].unique()\n",
    "matches = fuzzywuzzy.process.extract(\"south korea\", countries, limit=10, scorer=fuzzywuzzy.fuzz.token_sort_ratio)\n",
    "\n",
    "def replace_matches_in_column(df, column, string_to_match, min_ratio = 47):\n",
    "    # get a list of unique strings\n",
    "    strings = df[column].unique()\n",
    "    \n",
    "    # get the top 10 closest matches to our input string\n",
    "    matches = fuzzywuzzy.process.extract(string_to_match, strings, \n",
    "                                         limit=10, scorer=fuzzywuzzy.fuzz.token_sort_ratio)\n",
    "\n",
    "    # only get matches with a ratio > 90\n",
    "    close_matches = [matches[0] for matches in matches if matches[1] >= min_ratio]\n",
    "\n",
    "    # get the rows of all the close matches in our dataframe\n",
    "    rows_with_matches = df[column].isin(close_matches)\n",
    "\n",
    "    # replace all rows with close matches with the input matches \n",
    "    df.loc[rows_with_matches, column] = string_to_match\n",
    "    \n",
    "    # let us know the function's done\n",
    "    print(\"All done!\")\n",
    "    \n",
    "replace_matches_in_column(df=professors, column='Country', string_to_match=\"south korea\")\n",
    "countries = professors['Country'].unique()"
   ]
  },
  {
   "cell_type": "markdown",
   "id": "civic-manufacturer",
   "metadata": {
    "papermill": {
     "duration": 0.011797,
     "end_time": "2021-05-08T15:39:19.470581",
     "exception": false,
     "start_time": "2021-05-08T15:39:19.458784",
     "status": "completed"
    },
    "tags": []
   },
   "source": [
    "# 1) Examine another column\n",
    "\n",
    "Write code below to take a look at all the unique values in the \"Graduated from\" column."
   ]
  },
  {
   "cell_type": "code",
   "execution_count": 4,
   "id": "varied-enlargement",
   "metadata": {
    "execution": {
     "iopub.execute_input": "2021-05-08T15:39:19.500902Z",
     "iopub.status.busy": "2021-05-08T15:39:19.499849Z",
     "iopub.status.idle": "2021-05-08T15:39:19.503301Z",
     "shell.execute_reply": "2021-05-08T15:39:19.502829Z"
    },
    "papermill": {
     "duration": 0.020841,
     "end_time": "2021-05-08T15:39:19.503446",
     "exception": false,
     "start_time": "2021-05-08T15:39:19.482605",
     "status": "completed"
    },
    "tags": []
   },
   "outputs": [],
   "source": [
    "countries = professors['Graduated from'].unique()"
   ]
  },
  {
   "cell_type": "markdown",
   "id": "accepting-blond",
   "metadata": {
    "papermill": {
     "duration": 0.01269,
     "end_time": "2021-05-08T15:39:19.528030",
     "exception": false,
     "start_time": "2021-05-08T15:39:19.515340",
     "status": "completed"
    },
    "tags": []
   },
   "source": [
    "Do you notice any inconsistencies in the data?  Can any of the inconsistencies in the data be fixed by removing white spaces at the beginning and end of cells?\n",
    "\n",
    "Once you have answered these questions, run the code cell below to get credit for your work."
   ]
  },
  {
   "cell_type": "code",
   "execution_count": 5,
   "id": "electoral-chambers",
   "metadata": {
    "execution": {
     "iopub.execute_input": "2021-05-08T15:39:19.556578Z",
     "iopub.status.busy": "2021-05-08T15:39:19.555915Z",
     "iopub.status.idle": "2021-05-08T15:39:19.563991Z",
     "shell.execute_reply": "2021-05-08T15:39:19.564491Z"
    },
    "papermill": {
     "duration": 0.024453,
     "end_time": "2021-05-08T15:39:19.564654",
     "exception": false,
     "start_time": "2021-05-08T15:39:19.540201",
     "status": "completed"
    },
    "tags": []
   },
   "outputs": [
    {
     "data": {
      "application/javascript": [
       "parent.postMessage({\"jupyterEvent\": \"custom.exercise_interaction\", \"data\": {\"outcomeType\": 1, \"valueTowardsCompletion\": 0.3333333333333333, \"interactionType\": 1, \"questionType\": 4, \"questionId\": \"1_ExamineProvince\", \"learnToolsVersion\": \"0.3.4\", \"failureMessage\": \"\", \"exceptionClass\": \"\", \"trace\": \"\"}}, \"*\")"
      ],
      "text/plain": [
       "<IPython.core.display.Javascript object>"
      ]
     },
     "metadata": {},
     "output_type": "display_data"
    },
    {
     "data": {
      "text/markdown": [
       "<span style=\"color:#33cc33\">Correct:</span> \n",
       "\n",
       "There are inconsistencies that can be fixed by removing white spaces at the beginning and end of cells.  For instance, \"University of Central Florida\" and \" University of Central Florida\" both appear in the column."
      ],
      "text/plain": [
       "Correct: \n",
       "\n",
       "There are inconsistencies that can be fixed by removing white spaces at the beginning and end of cells.  For instance, \"University of Central Florida\" and \" University of Central Florida\" both appear in the column."
      ]
     },
     "metadata": {},
     "output_type": "display_data"
    }
   ],
   "source": [
    "# Check your answer (Run this code cell to receive credit!)\n",
    "q1.check()"
   ]
  },
  {
   "cell_type": "code",
   "execution_count": 6,
   "id": "cooperative-diploma",
   "metadata": {
    "execution": {
     "iopub.execute_input": "2021-05-08T15:39:19.593502Z",
     "iopub.status.busy": "2021-05-08T15:39:19.592828Z",
     "iopub.status.idle": "2021-05-08T15:39:19.595943Z",
     "shell.execute_reply": "2021-05-08T15:39:19.596508Z"
    },
    "papermill": {
     "duration": 0.019021,
     "end_time": "2021-05-08T15:39:19.596679",
     "exception": false,
     "start_time": "2021-05-08T15:39:19.577658",
     "status": "completed"
    },
    "tags": []
   },
   "outputs": [],
   "source": [
    "# Line below will give you a hint\n",
    "# q1.hint()"
   ]
  },
  {
   "cell_type": "markdown",
   "id": "boolean-crime",
   "metadata": {
    "papermill": {
     "duration": 0.012633,
     "end_time": "2021-05-08T15:39:19.622260",
     "exception": false,
     "start_time": "2021-05-08T15:39:19.609627",
     "status": "completed"
    },
    "tags": []
   },
   "source": [
    "# 2) Do some text pre-processing\n",
    "\n",
    "Convert every entry in the \"Graduated from\" column in the `professors` DataFrame to remove white spaces at the beginning and end of cells."
   ]
  },
  {
   "cell_type": "code",
   "execution_count": 7,
   "id": "varied-tension",
   "metadata": {
    "execution": {
     "iopub.execute_input": "2021-05-08T15:39:19.651313Z",
     "iopub.status.busy": "2021-05-08T15:39:19.650680Z",
     "iopub.status.idle": "2021-05-08T15:39:19.661396Z",
     "shell.execute_reply": "2021-05-08T15:39:19.661859Z"
    },
    "papermill": {
     "duration": 0.026854,
     "end_time": "2021-05-08T15:39:19.662026",
     "exception": false,
     "start_time": "2021-05-08T15:39:19.635172",
     "status": "completed"
    },
    "tags": []
   },
   "outputs": [
    {
     "data": {
      "application/javascript": [
       "parent.postMessage({\"jupyterEvent\": \"custom.exercise_interaction\", \"data\": {\"outcomeType\": 1, \"valueTowardsCompletion\": 0.3333333333333333, \"interactionType\": 1, \"questionType\": 1, \"questionId\": \"2_TextProcessing\", \"learnToolsVersion\": \"0.3.4\", \"failureMessage\": \"\", \"exceptionClass\": \"\", \"trace\": \"\"}}, \"*\")"
      ],
      "text/plain": [
       "<IPython.core.display.Javascript object>"
      ]
     },
     "metadata": {},
     "output_type": "display_data"
    },
    {
     "data": {
      "text/markdown": [
       "<span style=\"color:#33cc33\">Correct</span>"
      ],
      "text/plain": [
       "Correct"
      ]
     },
     "metadata": {},
     "output_type": "display_data"
    }
   ],
   "source": [
    "# TODO: Your code here\n",
    "professors['Graduated from'] = professors['Graduated from'].str.strip()\n",
    "# Check your answer\n",
    "q2.check()"
   ]
  },
  {
   "cell_type": "code",
   "execution_count": 8,
   "id": "frozen-dutch",
   "metadata": {
    "execution": {
     "iopub.execute_input": "2021-05-08T15:39:19.693801Z",
     "iopub.status.busy": "2021-05-08T15:39:19.692897Z",
     "iopub.status.idle": "2021-05-08T15:39:19.697616Z",
     "shell.execute_reply": "2021-05-08T15:39:19.697130Z"
    },
    "papermill": {
     "duration": 0.02186,
     "end_time": "2021-05-08T15:39:19.697761",
     "exception": false,
     "start_time": "2021-05-08T15:39:19.675901",
     "status": "completed"
    },
    "tags": []
   },
   "outputs": [],
   "source": [
    "# Lines below will give you a hint or solution code\n",
    "#q2.hint()\n",
    "# q2.solution()"
   ]
  },
  {
   "cell_type": "markdown",
   "id": "elect-tackle",
   "metadata": {
    "papermill": {
     "duration": 0.013413,
     "end_time": "2021-05-08T15:39:19.724887",
     "exception": false,
     "start_time": "2021-05-08T15:39:19.711474",
     "status": "completed"
    },
    "tags": []
   },
   "source": [
    "# 3) Continue working with countries\n",
    "\n",
    "In the tutorial, we focused on cleaning up inconsistencies in the \"Country\" column.  Run the code cell below to view the list of unique values that we ended with."
   ]
  },
  {
   "cell_type": "code",
   "execution_count": 9,
   "id": "composite-sense",
   "metadata": {
    "execution": {
     "iopub.execute_input": "2021-05-08T15:39:19.760991Z",
     "iopub.status.busy": "2021-05-08T15:39:19.760050Z",
     "iopub.status.idle": "2021-05-08T15:39:19.764491Z",
     "shell.execute_reply": "2021-05-08T15:39:19.764913Z"
    },
    "papermill": {
     "duration": 0.026477,
     "end_time": "2021-05-08T15:39:19.765108",
     "exception": false,
     "start_time": "2021-05-08T15:39:19.738631",
     "status": "completed"
    },
    "tags": []
   },
   "outputs": [
    {
     "data": {
      "text/plain": [
       "array(['australia', 'austria', 'canada', 'china', 'finland', 'france',\n",
       "       'germany', 'greece', 'hongkong', 'ireland', 'italy', 'japan',\n",
       "       'macau', 'malaysia', 'mauritius', 'netherland', 'new zealand',\n",
       "       'norway', 'pakistan', 'portugal', 'russian federation',\n",
       "       'saudi arabia', 'scotland', 'singapore', 'south korea', 'spain',\n",
       "       'sweden', 'thailand', 'turkey', 'uk', 'urbana', 'usa', 'usofa'],\n",
       "      dtype=object)"
      ]
     },
     "execution_count": 9,
     "metadata": {},
     "output_type": "execute_result"
    }
   ],
   "source": [
    "# get all the unique values in the 'City' column\n",
    "countries = professors['Country'].unique()\n",
    "\n",
    "# sort them alphabetically and then take a closer look\n",
    "countries.sort()\n",
    "countries"
   ]
  },
  {
   "cell_type": "markdown",
   "id": "textile-prize",
   "metadata": {
    "papermill": {
     "duration": 0.014644,
     "end_time": "2021-05-08T15:39:19.793851",
     "exception": false,
     "start_time": "2021-05-08T15:39:19.779207",
     "status": "completed"
    },
    "tags": []
   },
   "source": [
    "Take another look at the \"Country\" column and see if there's any more data cleaning we need to do.\n",
    "\n",
    "It looks like 'usa' and 'usofa' should be the same country.  Correct the \"Country\" column in the dataframe so that 'usofa' appears instead as 'usa'.\n",
    "\n",
    "**Use the most recent version of the DataFrame (with the whitespaces at the beginning and end of cells removed) from question 2.**"
   ]
  },
  {
   "cell_type": "code",
   "execution_count": 10,
   "id": "respected-breast",
   "metadata": {
    "execution": {
     "iopub.execute_input": "2021-05-08T15:39:19.833218Z",
     "iopub.status.busy": "2021-05-08T15:39:19.832243Z",
     "iopub.status.idle": "2021-05-08T15:39:19.840734Z",
     "shell.execute_reply": "2021-05-08T15:39:19.841303Z"
    },
    "papermill": {
     "duration": 0.033583,
     "end_time": "2021-05-08T15:39:19.841556",
     "exception": false,
     "start_time": "2021-05-08T15:39:19.807973",
     "status": "completed"
    },
    "tags": []
   },
   "outputs": [
    {
     "name": "stdout",
     "output_type": "stream",
     "text": [
      "All done!\n"
     ]
    },
    {
     "data": {
      "application/javascript": [
       "parent.postMessage({\"jupyterEvent\": \"custom.exercise_interaction\", \"data\": {\"outcomeType\": 1, \"valueTowardsCompletion\": 0.3333333333333333, \"interactionType\": 1, \"questionType\": 1, \"questionId\": \"3_WorkingWithCities\", \"learnToolsVersion\": \"0.3.4\", \"failureMessage\": \"\", \"exceptionClass\": \"\", \"trace\": \"\"}}, \"*\")"
      ],
      "text/plain": [
       "<IPython.core.display.Javascript object>"
      ]
     },
     "metadata": {},
     "output_type": "display_data"
    },
    {
     "data": {
      "text/markdown": [
       "<span style=\"color:#33cc33\">Correct</span>"
      ],
      "text/plain": [
       "Correct"
      ]
     },
     "metadata": {},
     "output_type": "display_data"
    }
   ],
   "source": [
    "# TODO: Your code here!\n",
    "matches = fuzzywuzzy.process.extract(\"usa\", countries, limit=10, scorer=fuzzywuzzy.fuzz.token_sort_ratio)\n",
    "replace_matches_in_column(df=professors, column='Country', string_to_match=\"usa\", min_ratio=70)\n",
    "# Check your answer\n",
    "q3.check()"
   ]
  },
  {
   "cell_type": "code",
   "execution_count": null,
   "id": "guided-appointment",
   "metadata": {
    "papermill": {
     "duration": 0.014868,
     "end_time": "2021-05-08T15:39:19.873292",
     "exception": false,
     "start_time": "2021-05-08T15:39:19.858424",
     "status": "completed"
    },
    "tags": []
   },
   "outputs": [],
   "source": []
  },
  {
   "cell_type": "code",
   "execution_count": 11,
   "id": "monetary-cleaners",
   "metadata": {
    "execution": {
     "iopub.execute_input": "2021-05-08T15:39:19.908240Z",
     "iopub.status.busy": "2021-05-08T15:39:19.907559Z",
     "iopub.status.idle": "2021-05-08T15:39:19.911861Z",
     "shell.execute_reply": "2021-05-08T15:39:19.911227Z"
    },
    "papermill": {
     "duration": 0.023814,
     "end_time": "2021-05-08T15:39:19.912132",
     "exception": false,
     "start_time": "2021-05-08T15:39:19.888318",
     "status": "completed"
    },
    "tags": []
   },
   "outputs": [],
   "source": [
    "# Lines below will give you a hint or solution code\n",
    "#q3.hint()\n",
    "# q3.solution()"
   ]
  },
  {
   "cell_type": "markdown",
   "id": "serious-dublin",
   "metadata": {
    "papermill": {
     "duration": 0.014997,
     "end_time": "2021-05-08T15:39:19.942776",
     "exception": false,
     "start_time": "2021-05-08T15:39:19.927779",
     "status": "completed"
    },
    "tags": []
   },
   "source": [
    "# Congratulations!\n",
    "\n",
    "Congratulations for completing the **Data Cleaning** course on Kaggle Learn!\n",
    "\n",
    "To practice your new skills, you're encouraged to download and investigate some of [Kaggle's Datasets](https://www.kaggle.com/datasets)."
   ]
  },
  {
   "cell_type": "markdown",
   "id": "welcome-assurance",
   "metadata": {
    "papermill": {
     "duration": 0.014902,
     "end_time": "2021-05-08T15:39:19.973012",
     "exception": false,
     "start_time": "2021-05-08T15:39:19.958110",
     "status": "completed"
    },
    "tags": []
   },
   "source": [
    "---\n",
    "\n",
    "\n",
    "\n",
    "\n",
    "*Have questions or comments? Visit the [Learn Discussion forum](https://www.kaggle.com/learn-forum/172650) to chat with other Learners.*"
   ]
  }
 ],
 "metadata": {
  "kernelspec": {
   "display_name": "Python 3",
   "language": "python",
   "name": "python3"
  },
  "language_info": {
   "codemirror_mode": {
    "name": "ipython",
    "version": 3
   },
   "file_extension": ".py",
   "mimetype": "text/x-python",
   "name": "python",
   "nbconvert_exporter": "python",
   "pygments_lexer": "ipython3",
   "version": "3.7.9"
  },
  "papermill": {
   "default_parameters": {},
   "duration": 7.696406,
   "end_time": "2021-05-08T15:39:20.598686",
   "environment_variables": {},
   "exception": null,
   "input_path": "__notebook__.ipynb",
   "output_path": "__notebook__.ipynb",
   "parameters": {},
   "start_time": "2021-05-08T15:39:12.902280",
   "version": "2.3.2"
  }
 },
 "nbformat": 4,
 "nbformat_minor": 5
}
